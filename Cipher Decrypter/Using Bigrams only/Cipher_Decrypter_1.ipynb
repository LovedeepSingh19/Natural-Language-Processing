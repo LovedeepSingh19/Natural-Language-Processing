{
 "cells": [
  {
   "cell_type": "code",
   "execution_count": 17,
   "metadata": {},
   "outputs": [],
   "source": [
    "import numpy as np\n",
    "import string\n",
    "import re\n",
    "import random\n",
    "import textwrap"
   ]
  },
  {
   "cell_type": "code",
   "execution_count": 2,
   "metadata": {},
   "outputs": [],
   "source": [
    "letter_1 = list(string.ascii_lowercase)\n",
    "letter_2 = list(string.ascii_lowercase)\n",
    "\n",
    "true_mapping = {}\n",
    "reverse_mapping = {}\n",
    "\n",
    "random.shuffle(letter_2)\n",
    "for k,v in zip(letter_1, letter_2):\n",
    "    true_mapping[k] = v\n",
    "    reverse_mapping[v] = k  ## Just for Sanity Check"
   ]
  },
  {
   "cell_type": "code",
   "execution_count": 3,
   "metadata": {},
   "outputs": [],
   "source": [
    "pie = np.zeros(26)\n",
    "A = np.ones((26, 26))\n",
    "def update_transition(ch0, ch1):\n",
    "    i = ord(ch0) - 97\n",
    "    j = ord(ch1) - 97\n",
    "    A[i,j] += 1\n",
    "\n",
    "def update_pie(ch0):\n",
    "    i = ord(ch0) - 97\n",
    "    pie[i] += 1\n",
    "\n",
    "def word_prob(word):\n",
    "    i = ord(word[0]) - 97\n",
    "    logp = np.log(pie[i])\n",
    "    for ch in word[1:]:\n",
    "        j = ord(ch) - 97\n",
    "        logp += np.log(A[i,j])\n",
    "        i = j\n",
    "    return logp\n",
    "\n",
    "def string_prob(words):\n",
    "    if type(words)==str:\n",
    "        words = words.split()\n",
    "    logp = 0\n",
    "    for word in words:\n",
    "        logp += word_prob(word)\n",
    "    return logp"
   ]
  },
  {
   "cell_type": "code",
   "execution_count": 4,
   "metadata": {},
   "outputs": [],
   "source": [
    "regex = re.compile('[^a-zA-Z]')\n",
    "for line in open('/Users/lovedeepsingh/Documents/Natural-Language-Processing/Cipher Decrypter/Mobidick.txt'):\n",
    "    line = line.lower().rstrip()\n",
    "    if line:\n",
    "        line = regex.sub(' ', line)\n",
    "        tokens = line.split()\n",
    "        for token in tokens:\n",
    "            ch0 = token[0]\n",
    "            update_pie(ch0)\n",
    "            for ch1 in token[1:]:\n",
    "                update_transition(ch0, ch1)\n",
    "                ch0 = ch1\n",
    "pie /= pie.sum()\n",
    "A /= A.sum(axis=1, keepdims=True) "
   ]
  },
  {
   "cell_type": "code",
   "execution_count": 5,
   "metadata": {},
   "outputs": [],
   "source": [
    "with open('/Users/lovedeepsingh/Documents/Natural-Language-Processing/Cipher Decrypter/Sample_text.txt') as f:\n",
    "    sample_message = f.readlines()\n",
    "sample_message = ''.join(sample_message)"
   ]
  },
  {
   "cell_type": "code",
   "execution_count": 6,
   "metadata": {},
   "outputs": [],
   "source": [
    "def encode(lines):\n",
    "    lines = lines.lower()\n",
    "    tokens = regex.sub(' ', lines)\n",
    "    new_message = []\n",
    "    for token in tokens:\n",
    "        coded_words = token\n",
    "        if token in true_mapping:\n",
    "            coded_words = true_mapping[token]\n",
    "        new_message.append(coded_words)\n",
    "    return (''.join(new_message))"
   ]
  },
  {
   "cell_type": "code",
   "execution_count": 7,
   "metadata": {},
   "outputs": [],
   "source": [
    "encoded_message = encode(sample_message)"
   ]
  },
  {
   "cell_type": "code",
   "execution_count": 8,
   "metadata": {},
   "outputs": [
    {
     "data": {
      "text/plain": [
       "'o bpga uteacgf ftha bpg dbwggb xaf mteaf  xd o gnzglbgf  bpxb bpgwg hxd x qghd oa x uxag hpolp wead ftha ks tag hxuu tm bpg cxwfga  o ugab bpg tdbugwd x pxaf oa wekkoac ftha bpgow ptwdgd  xaf wglgoygf oa gnlpxacg bhtzgalg  x cuxdd tm pxum xaf pxum  bht mouud tm dpxc btkxllt  xaf xd qelp oamtwqxbota xd o lteuf fgdowg xkteb qodd xfugw  bt dxs atbpoac tm pxum x ftjga tbpgw zgtzug oa bpg agocpktewpttf oa hptq o hxd atb oa bpg ugxdb oabgwgdbgf  keb hptdg kotcwxzpogd o hxd ltqzguugf bt uodbga bt '"
      ]
     },
     "execution_count": 8,
     "metadata": {},
     "output_type": "execute_result"
    }
   ],
   "source": [
    "encoded_message"
   ]
  },
  {
   "cell_type": "code",
   "execution_count": 9,
   "metadata": {},
   "outputs": [],
   "source": [
    "def decode(lines, mapping):\n",
    "    new_message = []\n",
    "    for token in lines:\n",
    "        coded_words = token\n",
    "        if token in mapping:\n",
    "            coded_words = mapping[token]\n",
    "        new_message.append(coded_words)\n",
    "    return (''.join(new_message))"
   ]
  },
  {
   "cell_type": "code",
   "execution_count": 10,
   "metadata": {},
   "outputs": [],
   "source": [
    "decoding_sample_test = decode(encoded_message, reverse_mapping)"
   ]
  },
  {
   "cell_type": "code",
   "execution_count": 11,
   "metadata": {},
   "outputs": [
    {
     "data": {
      "text/plain": [
       "'i then lounged down the street and found  as i expected  that there was a mews in a lane which runs down by one wall of the garden  i lent the ostlers a hand in rubbing down their horses  and received in exchange twopence  a glass of half and half  two fills of shag tobacco  and as much information as i could desire about miss adler  to say nothing of half a dozen other people in the neighbourhood in whom i was not in the least interested  but whose biographies i was compelled to listen to '"
      ]
     },
     "execution_count": 11,
     "metadata": {},
     "output_type": "execute_result"
    }
   ],
   "source": [
    "decoding_sample_test"
   ]
  },
  {
   "cell_type": "code",
   "execution_count": 12,
   "metadata": {},
   "outputs": [],
   "source": [
    "dna_pool = []\n",
    "for _ in range(20):\n",
    "    dna = list(string.ascii_lowercase)\n",
    "    random.shuffle(dna)\n",
    "    dna_pool.append(dna)"
   ]
  },
  {
   "cell_type": "code",
   "execution_count": 13,
   "metadata": {},
   "outputs": [],
   "source": [
    "def evolve_offspring(dna_pool, n_childern):\n",
    "    offspring = []\n",
    "    for dna in dna_pool:\n",
    "        for _ in range(n_childern):\n",
    "            copy = dna.copy()\n",
    "            i = np.random.randint(len(copy))\n",
    "            j = np.random.randint(len(copy))\n",
    "            temp = copy[i]\n",
    "            copy[i] = copy[j]\n",
    "            copy[j] = temp\n",
    "            offspring.append(copy)\n",
    "    return offspring + dna_pool"
   ]
  },
  {
   "cell_type": "code",
   "execution_count": 14,
   "metadata": {},
   "outputs": [
    {
     "name": "stdout",
     "output_type": "stream",
     "text": [
      "itter:  0 Current Score:  -2028.5614750695458 Best Score So far:  -1760.1538173658453\n",
      "itter:  200 Current Score:  -1066.489055127954 Best Score So far:  -977.5203393818056\n",
      "itter:  400 Current Score:  -1028.6369666108603 Best Score So far:  -941.3533967052797\n",
      "itter:  600 Current Score:  -1026.6242894973823 Best Score So far:  -941.3533967052797\n",
      "itter:  800 Current Score:  -1063.2707769084432 Best Score So far:  -941.3533967052797\n"
     ]
    }
   ],
   "source": [
    "n_iters = 1000\n",
    "best_dna = None\n",
    "best_mapping = None\n",
    "scores = np.zeros(n_iters)\n",
    "best_score = float('-inf')\n",
    "for i in range(n_iters):\n",
    "    if i>0:\n",
    "        dna_pool = evolve_offspring(dna_pool, 3)\n",
    "    dna_score = {}\n",
    "    for dna in dna_pool:\n",
    "        current_mapping = {}\n",
    "        for k,v in zip(letter_1, dna):\n",
    "            current_mapping[k] = v\n",
    "        decoded_msg = decode(encoded_message, current_mapping)\n",
    "        score = string_prob(decoded_msg)\n",
    "        dna_score[''.join(dna)] = score\n",
    "\n",
    "        if score > best_score:\n",
    "            best_score = score\n",
    "            best_dna = dna\n",
    "            best_mapping = current_mapping\n",
    "\n",
    "    scores[i] = np.mean(list(dna_score.values()))\n",
    "    sorted_data = sorted(dna_score.items(), key=lambda x:x[1], reverse=True)\n",
    "    dna_pool = [list(k) for k,v in sorted_data[:5]]\n",
    "    if i % 200 == 0:\n",
    "        print('iter: ', i, 'Current Score: ', scores[i], 'Best Score So far: ', best_score)"
   ]
  },
  {
   "cell_type": "code",
   "execution_count": 16,
   "metadata": {},
   "outputs": [
    {
     "name": "stdout",
     "output_type": "stream",
     "text": [
      "Log-likelihood of real message is : -933.1168491858226\n",
      "Log-likelihood of our calculated message is : -941.3533967052797\n"
     ]
    }
   ],
   "source": [
    "best_decoded = decode(encoded_message, best_mapping)\n",
    "print('Log-likelihood of real message is :', string_prob(decoding_sample_test))\n",
    "print('Log-likelihood of our calculated message is :', string_prob(regex.sub(' ',best_decoded)))"
   ]
  },
  {
   "cell_type": "code",
   "execution_count": 18,
   "metadata": {},
   "outputs": [
    {
     "name": "stdout",
     "output_type": "stream",
     "text": [
      "Our Message:\n",
      " i then lounged down the street and yound  as i expected  that there\n",
      "was a mews in a lane which runs down fb one wall oy the garden  i lent\n",
      "the ostlers a hand in ruffing down their horses  and received in\n",
      "exchange twopence  a glass oy haly and haly  two yills oy shag tofacco\n",
      "and as much inyormation as i could desire afout miss adler  to sab\n",
      "nothing oy haly a doken other people in the neighfourhood in whom i\n",
      "was not in the least interested  fut whose fiographies i was compelled\n",
      "to listen to\n",
      "Real Message:\n",
      " i then lounged down the street and found  as i expected  that there was a mews in a lane which runs down by one wall of the garden  i lent the ostlers a hand in rubbing down their horses  and received in exchange twopence  a glass of half and half  two fills of shag tobacco  and as much information as i could desire about miss adler  to say nothing of half a dozen other people in the neighbourhood in whom i was not in the least interested  but whose biographies i was compelled to listen to \n"
     ]
    }
   ],
   "source": [
    "print('Our Message:\\n', textwrap.fill(best_decoded))\n",
    "print('Real Message:\\n', decoding_sample_test)"
   ]
  },
  {
   "cell_type": "code",
   "execution_count": null,
   "metadata": {},
   "outputs": [],
   "source": []
  }
 ],
 "metadata": {
  "interpreter": {
   "hash": "4bd624a0593993fe43ac4046b27b898fb2ef75c21c08f81e89e64ea0f51df676"
  },
  "kernelspec": {
   "display_name": "Python 3.9.7 64-bit ('tensorflow': conda)",
   "language": "python",
   "name": "python3"
  },
  "language_info": {
   "codemirror_mode": {
    "name": "ipython",
    "version": 3
   },
   "file_extension": ".py",
   "mimetype": "text/x-python",
   "name": "python",
   "nbconvert_exporter": "python",
   "pygments_lexer": "ipython3",
   "version": "3.9.7"
  },
  "orig_nbformat": 4
 },
 "nbformat": 4,
 "nbformat_minor": 2
}
