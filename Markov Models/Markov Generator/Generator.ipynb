{
 "cells": [
  {
   "cell_type": "code",
   "execution_count": 1,
   "metadata": {},
   "outputs": [],
   "source": [
    "import numpy as np\n",
    "import string"
   ]
  },
  {
   "cell_type": "code",
   "execution_count": 2,
   "metadata": {},
   "outputs": [],
   "source": [
    "initials = {}\n",
    "first_order = {}\n",
    "second_order = {}"
   ]
  },
  {
   "cell_type": "code",
   "execution_count": 4,
   "metadata": {},
   "outputs": [],
   "source": [
    "def word2dict(dicts, keys, vals):\n",
    "    if keys not in dicts:\n",
    "        dicts[keys] = []\n",
    "        dicts[keys].append(vals)"
   ]
  },
  {
   "cell_type": "code",
   "execution_count": 6,
   "metadata": {},
   "outputs": [],
   "source": [
    "for line in open('/Users/lovedeepsingh/Documents/Natural-Language-Processing/Markov Models/robert_frost.txt'):\n",
    "    line = line.translate(str.maketrans('','',string.punctuation))\n",
    "    tokens = line.split()\n",
    "    T = len(tokens)\n",
    "    for i in range(T):\n",
    "        t = tokens[i]\n",
    "        if i==0:\n",
    "            initials[t] = initials.get(t,0) + 1\n",
    "        else:\n",
    "            t_1 = tokens[i-1]\n",
    "            if i == T-1:\n",
    "                word2dict(second_order,(t_1,t),'END')\n",
    "            if i == 1:\n",
    "                word2dict(first_order,t_1, t)\n",
    "            else:\n",
    "                t_2 = tokens[i-2]\n",
    "                word2dict(second_order,(t_2,t_1),t)"
   ]
  },
  {
   "cell_type": "code",
   "execution_count": 7,
   "metadata": {},
   "outputs": [],
   "source": [
    "initials_totals = sum(initials.values())\n",
    "for t, vals in initials.items():\n",
    "    initials[t] = vals/initials_totals"
   ]
  },
  {
   "cell_type": "code",
   "execution_count": 9,
   "metadata": {},
   "outputs": [],
   "source": [
    "def list2pred(ds):\n",
    "    d ={}\n",
    "    n = len(ds)\n",
    "    for t in ds:\n",
    "        d[t] = d.get(t,0) + 1\n",
    "    for t,vals in d.items():\n",
    "        d[t] = vals/n\n",
    "    return d"
   ]
  },
  {
   "cell_type": "code",
   "execution_count": 10,
   "metadata": {},
   "outputs": [],
   "source": [
    "for t_1, vals in first_order.items():\n",
    "    first_order[t_1] = list2pred(vals)"
   ]
  },
  {
   "cell_type": "code",
   "execution_count": 11,
   "metadata": {},
   "outputs": [],
   "source": [
    "for t_2, vals in second_order.items():\n",
    "    second_order[t_2] = list2pred(vals)"
   ]
  },
  {
   "cell_type": "code",
   "execution_count": 14,
   "metadata": {},
   "outputs": [],
   "source": [
    "def sample_word(d):\n",
    "    p0 = np.random.random()\n",
    "    cumulative = 0\n",
    "    for t,p in d.items():\n",
    "        cumulative += p\n",
    "        if p0 < cumulative:\n",
    "            return t\n",
    "    assert(False)"
   ]
  },
  {
   "cell_type": "code",
   "execution_count": 21,
   "metadata": {},
   "outputs": [],
   "source": [
    "def generate():\n",
    "    for i in range(4):\n",
    "        sentence = []\n",
    "        \n",
    "        w0 = sample_word(initials)\n",
    "        sentence.append(w0)\n",
    "\n",
    "        w1 = sample_word(first_order[w0])\n",
    "        sentence.append(w1)\n",
    "\n",
    "        while True:\n",
    "            w2 = sample_word(second_order[w0, w1])\n",
    "            if w2 == 'END':\n",
    "                break\n",
    "            sentence.append(w2)\n",
    "            w0 = w1\n",
    "            w1 = w2\n",
    "        print(' '.join(sentence))"
   ]
  },
  {
   "cell_type": "code",
   "execution_count": 22,
   "metadata": {},
   "outputs": [
    {
     "name": "stdout",
     "output_type": "stream",
     "text": [
      "Sometimes I wander out of snow\n",
      "But I have promises to keep\n",
      "And sorry I could not travel both\n",
      "Half closes the garden path\n"
     ]
    }
   ],
   "source": [
    "generate()"
   ]
  },
  {
   "cell_type": "code",
   "execution_count": null,
   "metadata": {},
   "outputs": [],
   "source": []
  }
 ],
 "metadata": {
  "interpreter": {
   "hash": "4bd624a0593993fe43ac4046b27b898fb2ef75c21c08f81e89e64ea0f51df676"
  },
  "kernelspec": {
   "display_name": "Python 3.9.7 64-bit ('tensorflow': conda)",
   "language": "python",
   "name": "python3"
  },
  "language_info": {
   "codemirror_mode": {
    "name": "ipython",
    "version": 3
   },
   "file_extension": ".py",
   "mimetype": "text/x-python",
   "name": "python",
   "nbconvert_exporter": "python",
   "pygments_lexer": "ipython3",
   "version": "3.9.7"
  },
  "orig_nbformat": 4
 },
 "nbformat": 4,
 "nbformat_minor": 2
}
